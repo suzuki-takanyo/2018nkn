{
 "cells": [
  {
   "cell_type": "markdown",
   "metadata": {},
   "source": [
    "# UNIXコマンド 試験\n",
    "この試験ではUNIXシェルを利用します。  \n",
    "Windows環境の場合や何らかの理由でターミナルアプリケーションが利用できない場合は講師に相談してください。\n",
    "\n",
    "参考資料の利用は自由です。利用しても構いません。  \n",
    "\n",
    "試験時間は50分です。"
   ]
  },
  {
   "cell_type": "markdown",
   "metadata": {},
   "source": [
    "## この試験の注意事項\n",
    "この試験ではコマンドを実行した結果を利用して採点します。  \n",
    "そのため、コマンドの入力後に `Shift + Return`をするのを忘れないようにしてください。  \n",
    "また、Jupyter Notebook上でコマンドを実行するには、入力欄の先頭に`%%bash`をつける必要があります。  \n",
    "以下にサンプルを掲載しますので、このサンプルに従ってやってみてください。  "
   ]
  },
  {
   "cell_type": "code",
   "execution_count": 23,
   "metadata": {},
   "outputs": [
    {
     "name": "stdout",
     "output_type": "stream",
     "text": [
      "uid=2000(acque2two) gid=2000(students) groups=2000(students),1900(tutors) context=system_u:system_r:unconfined_service_t:s0\n",
      " 05:35:26 up 25 min,  1 user,  load average: 0.00, 0.01, 0.05\n",
      "USER     TTY      FROM             LOGIN@   IDLE   JCPU   PCPU WHAT\n",
      "acque_2t pts/0    173.194.93.164   05:10   24:30   1.01s  1.00s top\n"
     ]
    }
   ],
   "source": [
    "%%bash\n",
    "\n",
    "# このJupyter Notebookを実行しているユーザ情報を表示\n",
    "id\n",
    "\n",
    "# このコンピュータにログインしているユーザ名を表示\n",
    "w"
   ]
  },
  {
   "cell_type": "markdown",
   "metadata": {},
   "source": [
    "---"
   ]
  },
  {
   "cell_type": "markdown",
   "metadata": {},
   "source": [
    "## 記名欄(書き忘れた場合採点されない場合があります)"
   ]
  },
  {
   "cell_type": "code",
   "execution_count": 9,
   "metadata": {},
   "outputs": [
    {
     "name": "stdout",
     "output_type": "stream",
     "text": [
      "Bクラス: 名前 様 / 実施日: 2017-11-24\n"
     ]
    }
   ],
   "source": [
    "import datetime\n",
    "YOUR_CLASS = \"B\" # A, B, Cのいずれかを入力 \n",
    "YOUR_NAME = \"名前\" # 日本語（漢字含む）で 姓 名の順に入力\n",
    "# 最後に `Shift + Enter` または `⇧ + Return` で実行してください。\n",
    "\n",
    "print(\"%sクラス: %s 様 / 実施日: %s\" % (YOUR_CLASS, YOUR_NAME, datetime.datetime.now().date()))\n",
    "# ↓に自分のクラスと名前が入力されていることを確認してください。"
   ]
  },
  {
   "cell_type": "markdown",
   "metadata": {},
   "source": [
    "---"
   ]
  },
  {
   "cell_type": "markdown",
   "metadata": {},
   "source": [
    "# 大門1. 知識問題"
   ]
  },
  {
   "cell_type": "markdown",
   "metadata": {},
   "source": [
    "## 問1. \n",
    "現在のカレントディレクトリを表示してください。"
   ]
  },
  {
   "cell_type": "code",
   "execution_count": 26,
   "metadata": {},
   "outputs": [
    {
     "name": "stdout",
     "output_type": "stream",
     "text": [
      "/home/acque2two\n"
     ]
    }
   ],
   "source": [
    "%%bash\n",
    "\n"
   ]
  },
  {
   "cell_type": "markdown",
   "metadata": {},
   "source": [
    "## 問2.\n",
    "カレントディレクトリを `/etc` に移動してください。"
   ]
  },
  {
   "cell_type": "code",
   "execution_count": 14,
   "metadata": {},
   "outputs": [],
   "source": [
    "%%bash\n",
    "\n"
   ]
  },
  {
   "cell_type": "markdown",
   "metadata": {},
   "source": [
    "## 問3.\n",
    "現在のカレントディレクトリの中身を表示してください"
   ]
  },
  {
   "cell_type": "code",
   "execution_count": null,
   "metadata": {},
   "outputs": [],
   "source": [
    "%%bash\n",
    "\n"
   ]
  },
  {
   "cell_type": "markdown",
   "metadata": {},
   "source": [
    "## 問4.\n",
    "ファイルのコピーと移動を行うコマンドを入力してください。  \n",
    "コピーを実行する必要はありません。  \n",
    "\n",
    "注意: コマンドのみで実行した場合に `missing file operand`といったエラーが出ますが問題ありません。"
   ]
  },
  {
   "cell_type": "code",
   "execution_count": 17,
   "metadata": {},
   "outputs": [],
   "source": [
    "%%bash\n",
    "\n"
   ]
  },
  {
   "cell_type": "markdown",
   "metadata": {},
   "source": [
    "# 大門2. 実践編\n"
   ]
  },
  {
   "cell_type": "markdown",
   "metadata": {},
   "source": [
    "以下の問題を解く前に、↓のコマンドを実行してください。  \n",
    "また、問題回答中に間違えてよくわからなくなった場合等も↓のコマンドを再実行することで初期化ができます。"
   ]
  },
  {
   "cell_type": "code",
   "execution_count": 38,
   "metadata": {},
   "outputs": [
    {
     "name": "stdout",
     "output_type": "stream",
     "text": [
      "/tmp\n"
     ]
    }
   ],
   "source": [
    "%%bash \n",
    "\n",
    "echo 'Y2QgL3RtcApwd2QKcm0gLWZSIHVuaXhfdGVzdApta2RpciAtcCB1bml4X3Rlc3QKY2QgdW5peF90\n",
    "ZXN0CkFUQVJJPSJESVJfMi9ESVJfMl8xIgpmb3IgaSBpbiB7MS4uNH0KZG8KICBta2RpciBESVJf\n",
    "JHtpfQogIGNkIERJUl8ke2l9CiAgZm9yIGogaW4gezEuLjR9CiAgZG8KICAgIG1rZGlyIERJUl8k\n",
    "e2l9XyR7an0KICBkb25lCiAgY2QgLi4KZG9uZQplY2hvICJXZWxjb21lIEJBU0ggV29ybGQhIj4g\n",
    "JHtBVEFSSX0vQVRBUkkK' | base64 -d | bash"
   ]
  },
  {
   "cell_type": "markdown",
   "metadata": {},
   "source": [
    "# 問1.\n",
    "`/tmp/unix_test`の中に`ATARI`というファイルがあります。このファイルを探して、ファイルの中身を表示してください。\n",
    "\n",
    "↓のシェルは実行するたびにカレントディレクトリがもとに戻ってしまいます。そこに注意して操作してみてください。"
   ]
  },
  {
   "cell_type": "code",
   "execution_count": 41,
   "metadata": {},
   "outputs": [],
   "source": [
    "%%bash\n",
    "\n"
   ]
  },
  {
   "cell_type": "markdown",
   "metadata": {},
   "source": [
    "## 問2.\n",
    "`/etc/group`の行の先頭を表示してください。  \n",
    "すべて表示してはいけません。"
   ]
  },
  {
   "cell_type": "code",
   "execution_count": 43,
   "metadata": {},
   "outputs": [],
   "source": [
    "%%bash\n",
    "\n"
   ]
  },
  {
   "cell_type": "markdown",
   "metadata": {},
   "source": [
    "---"
   ]
  },
  {
   "cell_type": "markdown",
   "metadata": {},
   "source": [
    "## これで試験は終了です。お疲れ様でした。"
   ]
  }
 ],
 "metadata": {
  "kernelspec": {
   "display_name": "Python 3",
   "language": "python",
   "name": "python3"
  },
  "language_info": {
   "codemirror_mode": {
    "name": "ipython",
    "version": 3
   },
   "file_extension": ".py",
   "mimetype": "text/x-python",
   "name": "python",
   "nbconvert_exporter": "python",
   "pygments_lexer": "ipython3",
   "version": "3.4.5"
  }
 },
 "nbformat": 4,
 "nbformat_minor": 2
}
